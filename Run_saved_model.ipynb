{
 "cells": [
  {
   "cell_type": "code",
   "execution_count": 1,
   "metadata": {},
   "outputs": [
    {
     "name": "stderr",
     "output_type": "stream",
     "text": [
      "Using TensorFlow backend.\n"
     ]
    },
    {
     "name": "stdout",
     "output_type": "stream",
     "text": [
      "[[1.00000000e+00 1.19436915e-26 3.12248076e-08]]\n",
      "[[1.0000000e+00 1.1543446e-28 1.0548553e-08]]\n",
      "[[1.0000000e+00 6.9781801e-28 1.0494347e-12]]\n",
      "[[1.0000000e+00 2.0634901e-24 0.0000000e+00]]\n",
      "[[1.0000000e+00 2.7453861e-23 1.1127449e-24]]\n",
      "[[1.0000000e+00 3.7918082e-24 1.0583015e-19]]\n",
      "[[1.0000000e+00 1.3635320e-21 5.3237904e-27]]\n",
      "[[1.0000000e+00 3.7591784e-36 0.0000000e+00]]\n",
      "[[1.000000e+00 2.049779e-29 0.000000e+00]]\n",
      "[[1.000000e+00 5.684672e-31 0.000000e+00]]\n",
      "[[1.0000000e+00 3.2145968e-22 0.0000000e+00]]\n",
      "[[1.000000e+00 9.462755e-31 0.000000e+00]]\n",
      "[[1.0000000e+00 1.1705414e-31 2.3825776e-38]]\n",
      "[[1.0000000e+00 1.0887269e-33 0.0000000e+00]]\n",
      "[[1.0000000e+00 1.7033931e-32 0.0000000e+00]]\n",
      "[[1.0000000e+00 1.0294456e-26 2.0307317e-24]]\n",
      "[[1.0000000e+00 3.3863469e-33 5.8658325e-33]]\n",
      "[[1.0000000e+00 2.1000378e-29 0.0000000e+00]]\n",
      "[[1.0000000e+00 1.2102457e-36 0.0000000e+00]]\n",
      "[[1.0000000e+00 3.8328986e-28 0.0000000e+00]]\n",
      "[[1.0000000e+00 2.3690736e-23 0.0000000e+00]]\n",
      "[[1.000000e+00 1.907299e-28 0.000000e+00]]\n",
      "[[1.000000e+00 8.632214e-25 0.000000e+00]]\n",
      "[[1.000000e+00 2.815703e-33 0.000000e+00]]\n",
      "[[1.0000000e+00 3.1321068e-20 0.0000000e+00]]\n",
      "[[1.0000000e+00 1.1224038e-19 0.0000000e+00]]\n",
      "[[1.0000000e+00 1.4127053e-19 0.0000000e+00]]\n",
      "[[1.0000000e+00 7.2977746e-27 0.0000000e+00]]\n",
      "[[1.0000000e+00 1.2669391e-28 0.0000000e+00]]\n",
      "[[1.000000e+00 6.951046e-38 0.000000e+00]]\n"
     ]
    },
    {
     "ename": "NameError",
     "evalue": "name 'video_capture' is not defined",
     "output_type": "error",
     "traceback": [
      "\u001b[1;31m---------------------------------------------------------------------------\u001b[0m",
      "\u001b[1;31mNameError\u001b[0m                                 Traceback (most recent call last)",
      "\u001b[1;32m<ipython-input-1-3fcb52f975c9>\u001b[0m in \u001b[0;36m<module>\u001b[1;34m\u001b[0m\n\u001b[0;32m     65\u001b[0m     \u001b[1;32mif\u001b[0m \u001b[0mcv2\u001b[0m\u001b[1;33m.\u001b[0m\u001b[0mwaitKey\u001b[0m\u001b[1;33m(\u001b[0m\u001b[1;36m1\u001b[0m\u001b[1;33m)\u001b[0m \u001b[1;33m&\u001b[0m \u001b[1;36m0xFF\u001b[0m \u001b[1;33m==\u001b[0m \u001b[0mord\u001b[0m\u001b[1;33m(\u001b[0m\u001b[1;34m'q'\u001b[0m\u001b[1;33m)\u001b[0m\u001b[1;33m:\u001b[0m\u001b[1;33m\u001b[0m\u001b[1;33m\u001b[0m\u001b[0m\n\u001b[0;32m     66\u001b[0m         \u001b[1;32mbreak\u001b[0m\u001b[1;33m\u001b[0m\u001b[1;33m\u001b[0m\u001b[0m\n\u001b[1;32m---> 67\u001b[1;33m \u001b[0mvideo_capture\u001b[0m\u001b[1;33m.\u001b[0m\u001b[0mrelease\u001b[0m\u001b[1;33m(\u001b[0m\u001b[1;33m)\u001b[0m\u001b[1;33m\u001b[0m\u001b[1;33m\u001b[0m\u001b[0m\n\u001b[0m\u001b[0;32m     68\u001b[0m \u001b[0mcv2\u001b[0m\u001b[1;33m.\u001b[0m\u001b[0mdestroyAllWindows\u001b[0m\u001b[1;33m(\u001b[0m\u001b[1;33m)\u001b[0m\u001b[1;33m\u001b[0m\u001b[1;33m\u001b[0m\u001b[0m\n",
      "\u001b[1;31mNameError\u001b[0m: name 'video_capture' is not defined"
     ]
    }
   ],
   "source": [
    "import base64\n",
    "from PIL import Image\n",
    "from keras.applications.vgg16 import preprocess_input\n",
    "from io import BytesIO\n",
    "import json\n",
    "import random\n",
    "import cv2\n",
    "from keras.models import load_model\n",
    "import numpy as np \n",
    "from keras.preprocessing import image\n",
    "\n",
    "model = load_model('./facerecognition_first_modelvgg16.h5')\n",
    "\n",
    "face_cascade = cv2.CascadeClassifier('./haarcascade_frontalface_default.xml')\n",
    "\n",
    "def face_extractor(img):\n",
    "    # Function detects faces and returns the cropped face\n",
    "    # If no face detected, it returns the input image\n",
    "\n",
    "    #gray = cv2.cvtColor(img,cv2.COLOR_BGR2GRAY)\n",
    "    faces = face_cascade.detectMultiScale(img, 1.3, 5)\n",
    "\n",
    "    if faces is ():\n",
    "        return None\n",
    "\n",
    "    # Crop all faces found\n",
    "    for (x, y, w, h) in faces:\n",
    "        cv2.rectangle(img, (x, y), (x+w, y+h), (0, 255, 255), 2)\n",
    "        cropped_face = img[y:y+h, x:x+w]\n",
    "\n",
    "    return cropped_face\n",
    "\n",
    "# Face recognition\n",
    "\n",
    "url = 'http://192.168.43.158:4747'\n",
    "cap = cv2.VideoCapture(url+\"/video\")\n",
    "\n",
    "while True:\n",
    "    _, frame = cap.read()\n",
    "    face = face_extractor(frame)\n",
    "\n",
    "    if type(face) is np.ndarray:\n",
    "        face = cv2.resize(face, (224,224))\n",
    "        img = Image.fromarray(face, 'RGB')\n",
    "\n",
    "        img_array = np.array(img)\n",
    "        img_array = np.expand_dims(img_array, axis=0)\n",
    "        prediction = model.predict(img_array)\n",
    "        print(prediction)\n",
    "\n",
    "        name = 'None matching'\n",
    "\n",
    "        if(prediction[0][1] > 0.7):\n",
    "            name = 'Mom'\n",
    "        elif(prediction[0][0] > 0.7):\n",
    "            name = 'Shashank'\n",
    "        elif(prediction[0][2] > 0.7):\n",
    "            name = 'Dad'\n",
    "        cv2.putText(frame, name, (50, 50), cv2.FONT_HERSHEY_COMPLEX, 1, (0, 255, 0), 2)\n",
    "    else:\n",
    "        cv2.putText(frame, \"No face found\", (50, 50), cv2.FONT_HERSHEY_COMPLEX, 1, (0, 255, 0), 2)\n",
    "    cv2.imshow('Video', frame)\n",
    "    if cv2.waitKey(1) & 0xFF == ord('q'):\n",
    "        break\n",
    "video_capture.release()\n",
    "cv2.destroyAllWindows()\n"
   ]
  }
 ],
 "metadata": {
  "kernelspec": {
   "display_name": "Python 3",
   "language": "python",
   "name": "python3"
  },
  "language_info": {
   "codemirror_mode": {
    "name": "ipython",
    "version": 3
   },
   "file_extension": ".py",
   "mimetype": "text/x-python",
   "name": "python",
   "nbconvert_exporter": "python",
   "pygments_lexer": "ipython3",
   "version": "3.7.7"
  }
 },
 "nbformat": 4,
 "nbformat_minor": 4
}
